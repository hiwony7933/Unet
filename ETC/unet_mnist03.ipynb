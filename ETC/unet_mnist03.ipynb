{
 "cells": [
  {
   "cell_type": "code",
   "execution_count": 1,
   "metadata": {},
   "outputs": [],
   "source": [
    "from tensorflow.keras.models import Model\n",
    "from tensorflow.keras.layers import Input, Conv2D, BatchNormalization, MaxPooling2D, Conv2DTranspose, concatenate\n",
    "from tensorflow.keras import backend as keras\n",
    "from tensorflow.keras.preprocessing.image import ImageDataGenerator\n",
    "from tensorflow.keras.callbacks import ModelCheckpoint, LearningRateScheduler\n",
    "\n",
    "def unet(input_size=(256,256,3)):\n",
    "    inputs = Input(input_size)\n",
    "    \n",
    "    conv1 = Conv2D(32, (3, 3), activation='relu', padding='same')(inputs)\n",
    "    conv1 = BatchNormalization()(conv1)\n",
    "    conv1 = Conv2D(32, (3, 3), activation='relu', padding='same')(conv1)\n",
    "    conv1 = BatchNormalization()(conv1)\n",
    "    pool1 = MaxPooling2D(pool_size=(2, 2))(conv1)\n",
    "\n",
    "    conv2 = Conv2D(64, (3, 3), activation='relu', padding='same')(pool1)\n",
    "    conv2 = BatchNormalization()(conv2)\n",
    "    conv2 = Conv2D(64, (3, 3), activation='relu', padding='same')(conv2)\n",
    "    conv2 = BatchNormalization()(conv2)\n",
    "    pool2 = MaxPooling2D(pool_size=(2, 2))(conv2)\n",
    "\n",
    "    conv3 = Conv2D(128, (3, 3), activation='relu', padding='same')(pool2)\n",
    "    conv3 = BatchNormalization()(conv3)\n",
    "    conv3 = Conv2D(128, (3, 3), activation='relu', padding='same')(conv3)\n",
    "    conv3 = BatchNormalization()(conv3)\n",
    "    pool3 = MaxPooling2D(pool_size=(2, 2))(conv3)\n",
    "\n",
    "    conv4 = Conv2D(256, (3, 3), activation='relu', padding='same')(pool3)\n",
    "    conv4 = BatchNormalization()(conv4)\n",
    "    conv4 = Conv2D(256, (3, 3), activation='relu', padding='same')(conv4)\n",
    "    conv4 = BatchNormalization()(conv4)\n",
    "    pool4 = MaxPooling2D(pool_size=(2, 2))(conv4)\n",
    "\n",
    "    conv5 = Conv2D(512, (3, 3), activation='relu', padding='same')(pool4)\n",
    "    conv5 = BatchNormalization()(conv5)\n",
    "    conv5 = Conv2D(512, (3, 3), activation='relu', padding='same')(conv5)\n",
    "    conv5 = BatchNormalization()(conv5)\n",
    "    \n",
    "\n",
    "    \n",
    "    up6 = concatenate([Conv2DTranspose(256, (2, 2), strides=(2, 2), padding='same')(conv5), conv4], axis=3)\n",
    "    conv6 = Conv2D(256, (3, 3), activation='relu', padding='same')(up6)\n",
    "    conv6 = BatchNormalization()(conv6)\n",
    "    conv6 = Conv2D(256, (3, 3), activation='relu', padding='same')(conv6)\n",
    "    conv6 = BatchNormalization()(conv6)\n",
    "    \n",
    "    up7 = concatenate([Conv2DTranspose(128, (2, 2), strides=(2, 2), padding='same')(conv6), conv3], axis=3)\n",
    "    conv7 = Conv2D(128, (3, 3), activation='relu', padding='same')(up7)\n",
    "    conv7 = BatchNormalization()(conv7)\n",
    "    conv7 = Conv2D(128, (3, 3), activation='relu', padding='same')(conv7)\n",
    "    conv7 = BatchNormalization()(conv7)\n",
    "    \n",
    "    up8 = concatenate([Conv2DTranspose(64, (2, 2), strides=(2, 2), padding='same')(conv7), conv2], axis=3)\n",
    "    conv8 = Conv2D(64, (3, 3), activation='relu', padding='same')(up8)\n",
    "    conv8 = BatchNormalization()(conv8)\n",
    "    conv8 = Conv2D(64, (3, 3), activation='relu', padding='same')(conv8)\n",
    "    conv8 = BatchNormalization()(conv8)\n",
    "    \n",
    "    up9 = concatenate([Conv2DTranspose(32, (2, 2), strides=(2, 2), padding='same')(conv8), conv1], axis=3)\n",
    "    conv9 = Conv2D(32, (3, 3), activation='relu', padding='same')(up9)\n",
    "    conv9 = BatchNormalization()(conv9)\n",
    "    conv9 = Conv2D(32, (3, 3), activation='relu', padding='same')(conv9)\n",
    "    conv9 = BatchNormalization()(conv9)\n",
    "\n",
    "    conv10 = Conv2D(1, (1, 1), activation='sigmoid')(conv9)\n",
    "\n",
    "    return Model(inputs=[inputs], outputs=[conv10])"
   ]
  },
  {
   "cell_type": "code",
   "execution_count": 2,
   "metadata": {},
   "outputs": [
    {
     "output_type": "stream",
     "name": "stdout",
     "text": "Model: \"model\"\n__________________________________________________________________________________________________\nLayer (type)                    Output Shape         Param #     Connected to                     \n==================================================================================================\ninput_1 (InputLayer)            [(None, 256, 256, 3) 0                                            \n__________________________________________________________________________________________________\nconv2d (Conv2D)                 (None, 256, 256, 32) 896         input_1[0][0]                    \n__________________________________________________________________________________________________\nbatch_normalization (BatchNorma (None, 256, 256, 32) 128         conv2d[0][0]                     \n__________________________________________________________________________________________________\nconv2d_1 (Conv2D)               (None, 256, 256, 32) 9248        batch_normalization[0][0]        \n__________________________________________________________________________________________________\nbatch_normalization_1 (BatchNor (None, 256, 256, 32) 128         conv2d_1[0][0]                   \n__________________________________________________________________________________________________\nmax_pooling2d (MaxPooling2D)    (None, 128, 128, 32) 0           batch_normalization_1[0][0]      \n__________________________________________________________________________________________________\nconv2d_2 (Conv2D)               (None, 128, 128, 64) 18496       max_pooling2d[0][0]              \n__________________________________________________________________________________________________\nbatch_normalization_2 (BatchNor (None, 128, 128, 64) 256         conv2d_2[0][0]                   \n__________________________________________________________________________________________________\nconv2d_3 (Conv2D)               (None, 128, 128, 64) 36928       batch_normalization_2[0][0]      \n__________________________________________________________________________________________________\nbatch_normalization_3 (BatchNor (None, 128, 128, 64) 256         conv2d_3[0][0]                   \n__________________________________________________________________________________________________\nmax_pooling2d_1 (MaxPooling2D)  (None, 64, 64, 64)   0           batch_normalization_3[0][0]      \n__________________________________________________________________________________________________\nconv2d_4 (Conv2D)               (None, 64, 64, 128)  73856       max_pooling2d_1[0][0]            \n__________________________________________________________________________________________________\nbatch_normalization_4 (BatchNor (None, 64, 64, 128)  512         conv2d_4[0][0]                   \n__________________________________________________________________________________________________\nconv2d_5 (Conv2D)               (None, 64, 64, 128)  147584      batch_normalization_4[0][0]      \n__________________________________________________________________________________________________\nbatch_normalization_5 (BatchNor (None, 64, 64, 128)  512         conv2d_5[0][0]                   \n__________________________________________________________________________________________________\nmax_pooling2d_2 (MaxPooling2D)  (None, 32, 32, 128)  0           batch_normalization_5[0][0]      \n__________________________________________________________________________________________________\nconv2d_6 (Conv2D)               (None, 32, 32, 256)  295168      max_pooling2d_2[0][0]            \n__________________________________________________________________________________________________\nbatch_normalization_6 (BatchNor (None, 32, 32, 256)  1024        conv2d_6[0][0]                   \n__________________________________________________________________________________________________\nconv2d_7 (Conv2D)               (None, 32, 32, 256)  590080      batch_normalization_6[0][0]      \n__________________________________________________________________________________________________\nbatch_normalization_7 (BatchNor (None, 32, 32, 256)  1024        conv2d_7[0][0]                   \n__________________________________________________________________________________________________\nmax_pooling2d_3 (MaxPooling2D)  (None, 16, 16, 256)  0           batch_normalization_7[0][0]      \n__________________________________________________________________________________________________\nconv2d_8 (Conv2D)               (None, 16, 16, 512)  1180160     max_pooling2d_3[0][0]            \n__________________________________________________________________________________________________\nbatch_normalization_8 (BatchNor (None, 16, 16, 512)  2048        conv2d_8[0][0]                   \n__________________________________________________________________________________________________\nconv2d_9 (Conv2D)               (None, 16, 16, 512)  2359808     batch_normalization_8[0][0]      \n__________________________________________________________________________________________________\nbatch_normalization_9 (BatchNor (None, 16, 16, 512)  2048        conv2d_9[0][0]                   \n__________________________________________________________________________________________________\nconv2d_transpose (Conv2DTranspo (None, 32, 32, 256)  524544      batch_normalization_9[0][0]      \n__________________________________________________________________________________________________\nconcatenate (Concatenate)       (None, 32, 32, 512)  0           conv2d_transpose[0][0]           \n                                                                 batch_normalization_7[0][0]      \n__________________________________________________________________________________________________\nconv2d_10 (Conv2D)              (None, 32, 32, 256)  1179904     concatenate[0][0]                \n__________________________________________________________________________________________________\nbatch_normalization_10 (BatchNo (None, 32, 32, 256)  1024        conv2d_10[0][0]                  \n__________________________________________________________________________________________________\nconv2d_11 (Conv2D)              (None, 32, 32, 256)  590080      batch_normalization_10[0][0]     \n__________________________________________________________________________________________________\nbatch_normalization_11 (BatchNo (None, 32, 32, 256)  1024        conv2d_11[0][0]                  \n__________________________________________________________________________________________________\nconv2d_transpose_1 (Conv2DTrans (None, 64, 64, 128)  131200      batch_normalization_11[0][0]     \n__________________________________________________________________________________________________\nconcatenate_1 (Concatenate)     (None, 64, 64, 256)  0           conv2d_transpose_1[0][0]         \n                                                                 batch_normalization_5[0][0]      \n__________________________________________________________________________________________________\nconv2d_12 (Conv2D)              (None, 64, 64, 128)  295040      concatenate_1[0][0]              \n__________________________________________________________________________________________________\nbatch_normalization_12 (BatchNo (None, 64, 64, 128)  512         conv2d_12[0][0]                  \n__________________________________________________________________________________________________\nconv2d_13 (Conv2D)              (None, 64, 64, 128)  147584      batch_normalization_12[0][0]     \n__________________________________________________________________________________________________\nbatch_normalization_13 (BatchNo (None, 64, 64, 128)  512         conv2d_13[0][0]                  \n__________________________________________________________________________________________________\nconv2d_transpose_2 (Conv2DTrans (None, 128, 128, 64) 32832       batch_normalization_13[0][0]     \n__________________________________________________________________________________________________\nconcatenate_2 (Concatenate)     (None, 128, 128, 128 0           conv2d_transpose_2[0][0]         \n                                                                 batch_normalization_3[0][0]      \n__________________________________________________________________________________________________\nconv2d_14 (Conv2D)              (None, 128, 128, 64) 73792       concatenate_2[0][0]              \n__________________________________________________________________________________________________\nbatch_normalization_14 (BatchNo (None, 128, 128, 64) 256         conv2d_14[0][0]                  \n__________________________________________________________________________________________________\nconv2d_15 (Conv2D)              (None, 128, 128, 64) 36928       batch_normalization_14[0][0]     \n__________________________________________________________________________________________________\nbatch_normalization_15 (BatchNo (None, 128, 128, 64) 256         conv2d_15[0][0]                  \n__________________________________________________________________________________________________\nconv2d_transpose_3 (Conv2DTrans (None, 256, 256, 32) 8224        batch_normalization_15[0][0]     \n__________________________________________________________________________________________________\nconcatenate_3 (Concatenate)     (None, 256, 256, 64) 0           conv2d_transpose_3[0][0]         \n                                                                 batch_normalization_1[0][0]      \n__________________________________________________________________________________________________\nconv2d_16 (Conv2D)              (None, 256, 256, 32) 18464       concatenate_3[0][0]              \n__________________________________________________________________________________________________\nbatch_normalization_16 (BatchNo (None, 256, 256, 32) 128         conv2d_16[0][0]                  \n__________________________________________________________________________________________________\nconv2d_17 (Conv2D)              (None, 256, 256, 32) 9248        batch_normalization_16[0][0]     \n__________________________________________________________________________________________________\nbatch_normalization_17 (BatchNo (None, 256, 256, 32) 128         conv2d_17[0][0]                  \n__________________________________________________________________________________________________\nconv2d_18 (Conv2D)              (None, 256, 256, 1)  33          batch_normalization_17[0][0]     \n==================================================================================================\nTotal params: 7,771,873\nTrainable params: 7,765,985\nNon-trainable params: 5,888\n__________________________________________________________________________________________________\n"
    }
   ],
   "source": [
    "# 모델 생성\n",
    "model = unet()\n",
    "\n",
    "# 모델 컴파일\n",
    "# sgd = SGD(lr=0.01, decay=1e-6, momentum=0.9, nesterov=True) # TODO : remove\n",
    "model.compile(loss=\"mse\", optimizer=\"SGD\", metrics=['accuracy'])\n",
    "\n",
    "model.summary()\n",
    "# # 학습\n",
    "# hist = model.fit(train_x, train_y, validation_split=0.2, epochs=20, batch_size=8, verbose=1)\n",
    "\n",
    "# # 모델 저장\n",
    "# model.save('unet.h5')\n"
   ]
  }
 ],
 "metadata": {
  "language_info": {
   "codemirror_mode": {
    "name": "ipython",
    "version": 3
   },
   "file_extension": ".py",
   "mimetype": "text/x-python",
   "name": "python",
   "nbconvert_exporter": "python",
   "pygments_lexer": "ipython3",
   "version": "3.7.4-final"
  },
  "orig_nbformat": 2,
  "kernelspec": {
   "name": "python37464bitanaconda3condae788c5fa592f4db3927eca9f2fe371f6",
   "display_name": "Python 3.7.4 64-bit ('anaconda3': conda)"
  }
 },
 "nbformat": 4,
 "nbformat_minor": 2
}