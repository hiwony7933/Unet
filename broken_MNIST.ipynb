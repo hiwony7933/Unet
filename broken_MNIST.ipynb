{
 "cells": [
  {
   "cell_type": "code",
   "execution_count": 1,
   "metadata": {},
   "outputs": [
    {
     "output_type": "stream",
     "name": "stderr",
     "text": "Using TensorFlow backend.\n"
    }
   ],
   "source": [
    "from keras.datasets import mnist \n",
    "import matplotlib.pyplot as plt \n",
    "\n",
    "# MNIST dataset load\n",
    "(x_train, _), (x_test, _) = mnist.load_data()\n",
    "\n",
    "# x_train 0~1 normalization & reshape\n",
    "x_train = x_train.reshape((x_train.shape[0],) + (28, 28, 1)).astype('float32') \n",
    "x_train = x_train / 255. \n",
    "\n",
    "# x_test 0~1 normalization & reshape\n",
    "x_test = x_test.reshape((x_test.shape[0],) + (28, 28, 1)).astype('float32') \n",
    "x_test = x_test / 255. "
   ]
  },
  {
   "cell_type": "code",
   "execution_count": null,
   "metadata": {},
   "outputs": [],
   "source": [
    "\n",
    "# broken MNIST & nomarl MNIST\n",
    "fail_test = x_test[ :1000].copy()\n",
    "real_test = x_test[1000:2000].copy()\n",
    "# fail_test[: , 12 , :] = 1.\n",
    "# fail_test[: , 20 , :] = 1.\n",
    "\n",
    "# cross fail_test_set\n",
    "fail_test[:,3:5,2:20] = 1.\n",
    "fail_test[:,1:14,5:10] = 1.\n",
    "\n",
    "fail_test[:,19:22,2:20] = 1.\n",
    "fail_test[:,18:21,16:25] = 1.\n",
    "\n",
    "fig, axs = plt.subplots(2,10, figsize=(15, 5))\n",
    "for i in range(10) :\n",
    "    fig.suptitle('Broken_MNIST & Normal_MNIST', fontsize=14)\n",
    "    axs[0, i].set_axis_off()\n",
    "    axs[0, i].imshow(fail_test[i].reshape(28,28), cmap='gray')\n",
    "    axs[1, i].set_axis_off()\n",
    "    axs[1, i].imshow(real_test[i].reshape(28,28), cmap='gray')\n",
    "plt.show()\n",
    "plt.close(fig)"
   ]
  },
  {
   "cell_type": "code",
   "execution_count": 7,
   "metadata": {},
   "outputs": [
    {
     "output_type": "display_data",
     "data": {
      "text/plain": "<Figure size 1080x360 with 10 Axes>",
      "image/svg+xml": "<?xml version=\"1.0\" encoding=\"utf-8\" standalone=\"no\"?>\n<!DOCTYPE svg PUBLIC \"-//W3C//DTD SVG 1.1//EN\"\n  \"http://www.w3.org/Graphics/SVG/1.1/DTD/svg11.dtd\">\n<!-- Created with matplotlib (https://matplotlib.org/) -->\n<svg height=\"85.332203pt\" version=\"1.1\" viewBox=\"0 0 851.4 85.332203\" width=\"851.4pt\" xmlns=\"http://www.w3.org/2000/svg\" xmlns:xlink=\"http://www.w3.org/1999/xlink\">\n <defs>\n  <style type=\"text/css\">\n*{stroke-linecap:butt;stroke-linejoin:round;}\n  </style>\n </defs>\n <g id=\"figure_1\">\n  <g id=\"patch_1\">\n   <path d=\"M 0 85.332203 \nL 851.4 85.332203 \nL 851.4 0 \nL 0 0 \nz\n\" style=\"fill:none;\"/>\n  </g>\n  <g id=\"axes_1\">\n   <g clip-path=\"url(#p2bfb870f45)\">\n    <image height=\"71\" id=\"image383bb73a1a\" transform=\"scale(1 -1)translate(0 -71)\" width=\"71\" x=\"7.2\" xlink:href=\"data:image/png;base64,\niVBORw0KGgoAAAANSUhEUgAAAEcAAABHCAYAAABVsFofAAAABHNCSVQICAgIfAhkiAAAAupJREFUeJztmsErPHEYxj+r3x6UC4e9uJCTFHF1IC4SOXByd/IXOBAHl7067F+gtCflopQDEsVBEgdcSEqhrChqf6d5LXZfmt0ds/V8Tk9P7Xy/PfO8Mzu7kwDyiKLU/fUG4ozCcfgXxSIzMzOmFxcXATg6OjJvcHAQgPv7+yi282vUHIdImlOMrq4u0/v7+wCMjo6ad3Z2FvmevqLmOCgch0jGant723QulwOgoaHBvLa2tm9eHFBzHCJpzs7OjumlpSXg8+09rqg5DgrHIdRY5fPVeVbt6+szfXh4WPX1fkLNcUgQ4ieLap3JwuOOjY2ZXltbq8p6P6HmOCgch9iO1cXFhemhoaFvXhSoOQ6hmlMOXusuLy9Nt7a2ml5ZWQFgcnKyehsrgprjoHAcYjVWIyMjpldXV00/Pz8DHxdmgL29vSrs7jNqjkOsmpNIJEzPzc2Znp+fB2B9fd284eHhym/uC2qOg8JxiO1Y1dfXmw5+Sezo6DBvYGAAgN3d3Upv0VBzHP7sT72feHl5MR1ciLu7u81bWFgAPl+Y397eKroHNcdB4TjE9oJcSG9vLwCbm5vmJZNJAPr7+83b2tqqwA4/UHMcFI5DTYxVQHCHApidnQXg8fHRvMbGxtDHLoaa41BTzUmlUqaPj4+/eR5qToVROA41NVaFjI+PA5DNZs2rqyt9rjVWFSZWD57B+8ileH19NR18G354eDCvqakJgOnpafMymUzo/ag5DgrHoayxKhyDzs5OAE5PT81rb28HoKenx7zr62sAmpubzbu6ugJgY2PDXe/9/d303d0d8DFKhQRvp5aLmuNQ1q288L/tlpaWX33m6ekJgJOTk7DLliRoZTqdNu/g4CD08dQcB4XjUNZYTUxMmJ6amgLg5ubGvOB7yfLysnm3t7cAnJ+fh102MtQch8ifrWoJNcdB4TgoHAeF46BwHBSOg8JxUDgOCsdB4TgoHAeF46BwHBSOg8JxUDgOCsfhP1Ih1ESw5sPTAAAAAElFTkSuQmCC\" y=\"-7.132203\"/>\n   </g>\n  </g>\n  <g id=\"axes_2\">\n   <g clip-path=\"url(#p4340eecad5)\">\n    <image height=\"71\" id=\"imageb625871d59\" transform=\"scale(1 -1)translate(0 -71)\" width=\"71\" x=\"92.318644\" xlink:href=\"data:image/png;base64,\niVBORw0KGgoAAAANSUhEUgAAAEcAAABHCAYAAABVsFofAAAABHNCSVQICAgIfAhkiAAAA3lJREFUeJztm8srfVEUxz/35zVRlIGUUqaEASljMcJEGfoLlPIaeaSYUpSZgZFHHikDI0l5lImBKCmZSKFEEuI3+HXW3bfDcn/XPtcdrM9oWfs4d/ftu9Y9Z+99Y8AHxqf8+e0JZDImjoKJo2DiKJg4CiaOgomjkO3+8fHx9SNPLBaLfDKZhjlHwcRRMHEUTByF7O8vSZ3+/n4AcnJy1OsqKioA6OjoUK+bnZ2V+OLiIjS+vLwMwOnp6f9M80vMOQoxPC9ZrKysSNzW1ubz1t/y9vYGwPv7e2hsfX1d4sPDw9D4zs4OAPv7+5Iz5yiYOArey+r5+Vni7xpxsiwtLQFwdXUlueLiYuD7Jp4sQ0NDAIyNjUnOnKOQdudUVVUBcH19nfQ97+/vAXh9fQ3du6CgIHR9YWGhxGdnZ1/ed3p6WuKBgQEAnp6eJGfOUTBxFNJeVqWlpUBic42SnyzDmHMUvDtnfHxc4qDJuaytrQHQ2dkpucfHR59TSMCcExEmjoL3sioqKpJ4Y2MDgLq6utB1k5OTEvf09PicQgJWVhHhfbHr9vZW4qA5Ly4uSi74eq+pqZFcfn4+EG1jTgVzjoKJo+C9IX/G7u6uxPX19aHxoDlH0ZitIUeEiaOQlrIqKSmR+OjoCEh8Hrq5uQGgoaFBcufn514+28oqItLiHJfgxbOpqUlyeXl5AMzNzUmuq6tL4p88/5hzIsLEUUh7WQWMjIxIPDg4GBqfmpqSuLu7O+XPsbKKiEhPWWi4+9UvLy8A5ObmSs7drFtdXQVge3s7TbP7hzlHwcRR+LWG7NLX1wfA6Oio5NwSOzg4AKCxsVFy7s5kVJhzFLw7p6ysTOKHhwcA7u7ukvrf4L0LoLKyMjTuOmdrayvVKSaNOUfBxFHw9pzT0tICJJ4JPDk5AaC5uVly2h75/Py8xMPDwxL7OgT1v5hzFLw15NraWiBxvTgrKwuA4+NjybW2tgLxBS6IL0m4X9/uqc7q6moAJiYmJNfb2+tj2irmHAUTR8FbQw5eJIOXRID29nYgfnwf4mvD7hH8zc1NAMrLyyUXlJKLu5uaDsw5CpG+Wy0sLABxB6VK4Db3Cfny8vJH90wGc46CiaOQUkPW1mV9MTMzI/He3h6QnlJyMeco/Noa8mdk2s+zzTkKJo6CiaNg4ihkxO5DpmLOUTBxFP4ChxkGc4gCdCkAAAAASUVORK5CYII=\" y=\"-7.132203\"/>\n   </g>\n  </g>\n  <g id=\"axes_3\">\n   <g clip-path=\"url(#p4d48bbbe68)\">\n    <image height=\"71\" id=\"imagefea0c0cc7a\" transform=\"scale(1 -1)translate(0 -71)\" width=\"71\" x=\"177.437288\" xlink:href=\"data:image/png;base64,\niVBORw0KGgoAAAANSUhEUgAAAEcAAABHCAYAAABVsFofAAAABHNCSVQICAgIfAhkiAAAAmNJREFUeJztmjGvKVEUhReuSiEKiULvL0hoRC0iJBI/QSNR+AsS8Us0CqEV0UoQjVIpeqIRt3iZc+cxbz2518ycm6yv2tmTMSdr1t7ZzpkIgDuEJ9GwF2AzEocgcQgShyBxCBKHIHEIEocgcQgfQTwkHo+beLFYAABOp5PJtVotAMDlcgliOS8j5xAkDiHwskqlUgCAfD5vcp1OBwDQ7/eDWM7LyDmEQJzjbrSz2QwAkMvlTK7RaAAABoOByd1ut6ffud/57kokEvnROh+RcwgShxBBwDuBxWIRADCfz00uFosBAMrlssm5rzuorCziWw35f28wLLzW9RM3yTkEiUMIZM55lUqlYmKvhuxVIn6WuJxDsMo5zv8uW5BzCBKH8K2yesckmslkTLzZbAD8vY1hA3IOIbSGfDweTbxcLgEA9Xrd5Gq1monH43FwC3Mh5xAkDsGKOWe73QL42hF8jFVWFiJxCIHvBHrhzDfT6dTkDoeDiQuFAgDger0+3evn7qCcQ7DCOQ7D4dDE3W7XxNVqFQAwmUye7pFzQkLiEKyYcxx2u51nvtfrAfAuKz+RcwhWOcf5sOmRdDod8Er+IOcQJA7BqrJyT8Wr1crETlklEgmTO5/PAN5/Pu5GziFYNSG7cW9ZjEYjAECpVDK5fzXvdyLnECQOwaqG7Ga/35vYab7NZtPkVFYhY21DduN8n9xut00umUz6/lw5hyBxCNY2ZDfOWbp7QnZORP08tpFzCL/COev1GgAQjX69y2w26/tz5RyCxCH8ijknLOQcgsQhSByCxCFIHILEIUgcgsQhSBzCJ8IBimFlNNhrAAAAAElFTkSuQmCC\" y=\"-7.132203\"/>\n   </g>\n  </g>\n  <g id=\"axes_4\">\n   <g clip-path=\"url(#p7a8c216110)\">\n    <image height=\"71\" id=\"image3da44dfd91\" transform=\"scale(1 -1)translate(0 -71)\" width=\"71\" x=\"262.555932\" xlink:href=\"data:image/png;base64,\niVBORw0KGgoAAAANSUhEUgAAAEcAAABHCAYAAABVsFofAAAABHNCSVQICAgIfAhkiAAAA0NJREFUeJztmz8se1EUxz/lt5kES4eyaaz+xNTBJBIiEtFFbAyCzShWixgIITGKGERERDqKRAwGCxYDiwgGiYiEYHqn9/3Uyevr85Scz3Ry2t578u333p737msCeMcoSMVPF1DOmDgKJo6CiaNg4iiYOAomjoKJo2DiKPyLY5LOzk6Jh4eHAeju7pbc9vY2AMvLy5JLJBISn56eAnB1dfWtdf6POUfBxFFIEPGFZyaTkbi3txeAiYkJyb29vQUap6Ii/72Nj48DsLCwEEWJgTHnKETmnPr6egAODw8lV1dXB/hdEMY5Nzc3AJydnUnO29ivr68l9/T0VGzZeg2RjvbHMHEUIutz+vr6gPxSihJvTHfs8/NzAJaWliQ3NjYW6bzmHIXINuT396+H6erq+pRzu+FkMvnp9TCbeGVlZaD3BcWco2DiKMSyrNyLyKDs7u5K3NjYCEAqlVI/s7e3B/gvakvBnKNQts5xmZubA2B0dFR9n3dLY2hoSHIHBweh5zXnKJg4Cr9iWXmdcVNTk+TW19cBqK2tlZzXG3kXqgDt7e1AuLuI5hyFX+GcQnjXUbOzs5LznON21Ol0GoCLi4ui5zDnKJg4Cr92WTU0NACwsbEhudbWVsC/rNbW1gAYHBwseg5zjoKJoxDLiefR0ZHE/f39QOmnl94ydpeQF7u56enp0HOYcxRicU5LS4vEq6urAGSzWcnd3d0VPWZPTw8Azc3NJVb3NeYcBRNHIVSfo/U0pVBVVSVxodNL71QV8ier7nHN8/MzAFNTU5Kbn58H4OXlpeh6zDkKsWzIQZmZmZE4l8tJ/PDwAEBHR4fkCh0eTk5OArC4uBhJPeYcBRNHoaw2ZLezvb+/l/jx8RHwb8iFsBPPGAm1IQe9BaE57PX1Vf1sTU2NxNXV1YDfWZeXlwAMDAwEqiUM5hwFE0ehrPqcr9jc3AT8p5cnJycAHB8ff9u85hyFb3VOoY3b62y3trYk19bWpo6zv78P2HPIZYWJoxD7hnx7ewv4HxNxH74uJ8w5Cj/2U+4+lr+ysgLAyMiI5Nyf6J2dnfgKczDnKJg4CpH/3+ovYc5RMHEUTBwFE0fBxFEwcRRMHAUTR8HEUfgA+y7umQQVCZUAAAAASUVORK5CYII=\" y=\"-7.132203\"/>\n   </g>\n  </g>\n  <g id=\"axes_5\">\n   <g clip-path=\"url(#p3c40127b03)\">\n    <image height=\"71\" id=\"imagea603187bd5\" transform=\"scale(1 -1)translate(0 -71)\" width=\"71\" x=\"347.674576\" xlink:href=\"data:image/png;base64,\niVBORw0KGgoAAAANSUhEUgAAAEcAAABHCAYAAABVsFofAAAABHNCSVQICAgIfAhkiAAAAzRJREFUeJztm70vdEEYxX8rElFoRIROUCgUEpWEmkShUEkUOhURiUZJoSJRiD8BoREJUVFKKH1UauKrIkQE1YzZ7N2zm3tn9303eX7NTs7unbk5e2b2uffO5oAfjETq/vUJ/M+YOQIzR2DmCMwcgZkjMHME9dUe8OeneFmVy+US9YODAwDW1ta8dnJyEvfEErDkCHJUuUJOk5z7+3sA6uv/gr68vAzA+vp6xLPLx5IjMHMENTGtVlZWAFhYWPDa+/s7AE1NTRHPLh9LjqDqP+XF0qH4+Pgo0BobG2OcjsSSIzBzBFWfVmlwUzHNlMyCJUdQE8lxP/9JZUBvb69vX15eFj02iVJJtOQIzBxBRadVX18fAN3d3WV9fm9vL1Hv7OwsekzSVIqFJUcQLTk9PT0ALC0teW10dBSAhoaGsvp4enry7XAhbWlpKXpMWCm7661YWHIEZo4g2i2LnZ0dAMbHx712fn4O5N/7VYQ1S7gId3R0ADAwMFBwzMzMjG9vbm4WvG91ToXItCCHi2FXVxcAV1dXXnML8svLS1n97e7uJuqtra0A3N3dFbxXV1e579eSIzBzBJmmVXj/1lXDW1tbXit3OpXi4eEByK+g3cI/ODjotY2NjSjjOSw5AjNHkGpaqdphcnIysV0OpeqO29vbAi2sjWJjyRGkqpBVcrJQKjmuUgY4OzsDoLm52WvDw8NA/g4Mq5ArhJkjqKlpFbK6ugrA3Nyc105PTwEYGRnx2ufnZ+rxLDmC6Lsstre3fXtsbAyAoaEhr11cXEQZxy3Ez8/PXvv+/gagra3Na666TsKSkwEzRxB9WoUVq1sgw+j39/cD8Pr6GmU8Nwb8XYS2t7d77fHxMXXflhxB9Id64UO2iYkJAI6Ojry2uLiY95qV/f193w5vX8TAkiMwcwQV3U3qNlWHF4LuuXm4aGZhamrKt+fn54H8Rzhvb2+p+7bkCCq6y+Lr6wuAw8NDr83OzkYdw5UGANfX10C2tIRYcgRmjqAqewKPj499e3p6Omrf7r9YADc3N1H7tuQIqv7HkFrCkiMwcwRmjsDMEZg5AjNHYOYIzByBmSMwcwRmjsDMEfwCmBLVpgjkv6AAAAAASUVORK5CYII=\" y=\"-7.132203\"/>\n   </g>\n  </g>\n  <g id=\"axes_6\">\n   <g clip-path=\"url(#pc6193335a2)\">\n    <image height=\"71\" id=\"image23a268874e\" transform=\"scale(1 -1)translate(0 -71)\" width=\"71\" x=\"432.79322\" xlink:href=\"data:image/png;base64,\niVBORw0KGgoAAAANSUhEUgAAAEcAAABHCAYAAABVsFofAAAABHNCSVQICAgIfAhkiAAAAldJREFUeJzt2r+OaVEYBfDFXCOiUFAhGqUSnTdQiJpCLREvoOMV5gkUKsVUEq0/hZyIB/AI1BKEW9zMvm6OLK6w7WL9qp19DF/WrHPmYAIAzpCrgu8ewGUKh1A4hMIhFA6hcAiFQ/yy/YLJZBIA0O12zd5yuQQAfH192R6HUnMIK835+Pgw616vBwBoNBpXj7tEzSEUDmHltAoG//4OisWi73g2m7Uxxn9TcwgrzTkcDma9Xq8BALlczuxFIhEAQCgUuvoz76LmEAqHsH6HPB6PAQCVSsXsZTIZAEAsFjN7m83G7mBXqDmE9eZst1vfXiKRAAC0222z1+l06PMEAoHnDnaFmkMoHML6aTWfzwEAp9PJ7P3cQV9epF2g5hBWmnM+8+8Nf46n02kb49xNzSEUDhGAhe/K7z2tLt26j9F9zps5Ec7pdPrnT7srnAjHVQqHsHKfc+vi2e/3AQC1Ws3GOHdTcwiFQzgRjud58Dzv3WP4OBGOqx66IN+6433Uq573UWoOoXAI658EMrPZzKxLpdIbJ/lDzSGcas5kMjFrNcdxCoew8kngvQqFglkvFgvf8ePxaNafn58vn0fNIZxqTjgcNuvpdGrW+Xze99hyuQwAGI1GL5tHzSEUDuHUaXWpWq2a9XA49B0fDAYAgHq9bvae/cZVzSGcbU48Hjfr1WoFAEilUr7HRaNRs97tdk+dQc0hFA7h1BvPS5f/O9hsNgEA39/fZq/VagEA9vv9y2ZQcwhnL8guUHMIhUMoHELhEAqHUDiEwiEUDqFwCIVDKBxC4RC/AYM0eEKZNIweAAAAAElFTkSuQmCC\" y=\"-7.132203\"/>\n   </g>\n  </g>\n  <g id=\"axes_7\">\n   <g clip-path=\"url(#p0f08a437b0)\">\n    <image height=\"71\" id=\"imagefc29ce0f27\" transform=\"scale(1 -1)translate(0 -71)\" width=\"71\" x=\"517.911864\" xlink:href=\"data:image/png;base64,\niVBORw0KGgoAAAANSUhEUgAAAEcAAABHCAYAAABVsFofAAAABHNCSVQICAgIfAhkiAAAA25JREFUeJztm00obVEYhp+jm1JK8puRTA0UEwP5maAMkYH8FEXKhJkywYg5A5IwIcVESkbmRGZCJCkGyEAxcAe39d19ruM75+yzz7Fvfc/o7Wvba3l717L2WksE+MSISdZPdyDMmDkKZo6CmaNg5iiYOQpmjsKvn+4AQF1dHQBTU1NSOzw8FL2wsADA09OT1N7f39PeL0uOQoQQrJBPTk4AqKqqUp9bXFwUPT09DcDt7W3a+mXJUTBzFEIxISdKdXW16JmZGQD6+vrS1p4lR+G/Sk5TU5Po/Pz8tLdnyVEwcxRCsc4ZHh4GYH5+XmoPDw+iS0tLM94nsOSohCI5jvv7e9G5ubmiGxoaADg+Pk7oPZ+f+q8UiUQSeo8lR8HMUQjVOmdvb090f3+/6PHxcQC6u7sz2h9LjkKoJuTOzk7RGxsbol9fX4HoFbI2OduEnAHMHAVfE3K82PrFG/e2tjbRPT09ABQUFKSl3e+w5Cj4mpAzkZyKigrRFxcXwN+9ZoCWlhYAHh8fk+6fTcgBYOYohGpYzc7Oil5bWxN9enr65dn19XUg9h6yDasMYOYopPT5UFNTI3pnZweAsrKyr414YpzokIz3M1dXVwC0trZK7fLyMqE2bFgFQErJWV1dFR1rO8HdlHh+fpaauzERD7f7B9DY2AhAbW3tl+e2trZEd3V1AZacjGDmKAS+E7i7uyu6vb0dgI+Pj6Tfs7+/LzonJweAiYkJqY2MjADQ0dHhq5+JYMlRSCk53oktK+uPz94/5dnZ2YC/5Hh5e3sDYHJyUmp3d3dA9EHg8vJySu38iyVHwcxRSGmdU1xcLNrd0RscHJTawMAAACsrK36b+JbKykoADg4OpFZSUgJAb2+v1NwHqh8sOQqBHc00NzcD0QdzDu8tiVg7d6ngEgRwdnYGwPb2ttTc4aA73kkGS46CmaMQ2LAqLCwEok8q3Qejdy0yOjoaRHMxmZubA2BsbExqQ0NDACwtLSX9PkuOQuBn5d5bnufn5wDk5eVJzU2WbnshSFw7R0dHUisqKgKiN+bcUU88LDkKZo5C4FsW3v+JcmuQzc1Nqbl93vLycqldX18H0vbLywsQPYTq6+sBuLm5Sfp9lhyFUF1eChuWHAUzR8HMUTBzFMwcBTNHwcxRMHMUzBwFM0fBzFEwcxR+A6O07j8Ah6CoAAAAAElFTkSuQmCC\" y=\"-7.132203\"/>\n   </g>\n  </g>\n  <g id=\"axes_8\">\n   <g clip-path=\"url(#p343ca55e16)\">\n    <image height=\"71\" id=\"imagedc5fe738f5\" transform=\"scale(1 -1)translate(0 -71)\" width=\"71\" x=\"603.030508\" xlink:href=\"data:image/png;base64,\niVBORw0KGgoAAAANSUhEUgAAAEcAAABHCAYAAABVsFofAAAABHNCSVQICAgIfAhkiAAAA5RJREFUeJztm8srtHEUxz+DhFxyXblsKAqx8wcoO6LkVv4BJBtWFCUpK1sLK8klSVkoZWUhSijJZWGhUERZkMW8q+fMzDvTmZnnfWa8o/PZOJ1nnp/Td77n5zfnMT7AjxGRtJ8u4H/GxFEwcRRMHIWMny4gEeTn50t8dnYGwOjoqOR2dnZiWseco2DiKPzKttrc3JS4pKQEgNvb27jXMeco/CrnVFZWAtDa2iq51dVVAC4vL+Nez5yjYOIopHxblZaWSry/vx92fX5+3vXa5hyFlHfO4OCgxNXV1QBsbW1J7ubmxvXa5hwFE0fBh4tJoN+fmOGhz+eL+bVNTU0AHB4eSi4rKwuAuro6yV1fX7uux5yjkBHNBfG8m4kmLS3wXo6PjwMBtwBMT08D/+aWkN/nySq/FBNHweeP0leR2uqnNuTe3l6JV1ZWAHh4eJCcs0m/vr56Uo85R8HVCTneTTp4hNDf3w/A29ub5KamptT7s7OzAejp6Qm7dnBwILFXjnEw5yiYOAoJ/eDptFPwTLegoAAI3dTT09MBmJiYkNzn56fEk5OTAHR0dEju/v4egJmZGa/LFsw5Cp47p6ioSOL19XUA8vLyJOc4Jtg5w8PDANTW1kpuaGhI4q6urrB79vb2ALi7u/Os9r8x5yiYOAqet1XwmcbZfC8uLiTnnHIbGhok19nZCUB3d7fkjo6OJC4sLARCzzGLi4telh0Rc46CiaPgeVv19fWF5Y6PjyW+uroK+QmwsbEBhLZkcXFx2DpLS0sSu3mCGS/mHAXPneM8mwZob28HYHd3N6Z7T05OJG5rawu73tLSInFubi4AHx8fruqMBXOOgomj4HlbfX19SezMfcbGxiS3vb0NhA7GnU28pqYm7N7gOCcnR3KZmZlelh0Rc46CqxmyRlVVlcTn5+dAYPOEwGn56elJcsF/wiPx/PwMQHNzs+QeHx/jqssN5hwFE0chw+snms6EDmB5eRmAkZERyTU2NgLRH++8v79LvLCwAHg/QI+GOUfB1X9ZxEp5eTkAp6enknM+M0VyztramsTOdBCS7xgHc46CiaOQ0LZyGBgYkHh2dhaAioqKsNeVlZVJ/PLykuiyomLOUUiKc4Jxvgs1Nzcnufr6eiD0pPz9/Z3MsiJizlEwcRSS3laphDlHwcRRMHEUTBwFE0fBxFFI2e9bacMyrwZ45hwFE0fBxFEwcRRMHAUTR8HEUfgDjl7kYD97ZFYAAAAASUVORK5CYII=\" y=\"-7.132203\"/>\n   </g>\n  </g>\n  <g id=\"axes_9\">\n   <g clip-path=\"url(#p43ccaa5281)\">\n    <image height=\"71\" id=\"image5cd0151f70\" transform=\"scale(1 -1)translate(0 -71)\" width=\"71\" x=\"688.149153\" xlink:href=\"data:image/png;base64,\niVBORw0KGgoAAAANSUhEUgAAAEcAAABHCAYAAABVsFofAAAABHNCSVQICAgIfAhkiAAAA6ZJREFUeJztm0sodV8Yxn/HNTGRYuJWZGIgMjCjlAkJA0kMZSC5jJgxIZlLEQNlYkQxMEAplyQUJRlQRpgYIHL5D772e47vHC//ffZ2fPX+Rm+PvddePedZe6+91xIA3jEiEhfrDvxmzByFBDcnvb/7MxIDgYAv7brFkqNg5iiYOQpmjoKrG/K/jvZACX0oWHIUXCXHr0due3u71BUVFVIPDw8DcH197ct1P8OSo2DmKASI0YtnVlaW1NPT0wCUl5eLlpmZKfXFxQUAc3Nzog0NDbm+tt2QPeDHk5OSkgLAzMyMaM3Nzd869/X1Verl5WUA2traRLu/v/eii4IlR8HMUfjxYVVWVgbA3t6eetz6+rrUVVVVQOT51cTEhNTd3d0e9DCIJUfhx9+tampqwrSXlxcAZmdnRZuampK6t7cXgNbW1rBzs7Oz1et997EdCUuOgpmj4Ouwqq6uBiAxMVG0hoaG8E4k/OlGR0eHaKF1rLDkKLhKTnx8PAClpaWizc/P/2kwIdhkTk4OAHFx3v8Gzo12f3/f87YdLDkKZo6Cqxny+Pg4AP39/V73R+Xm5kbqjY0NAFpaWtRzbJ7jE66S4/wab29v6nHO3ycnJ0Xb2dkBIDc3V7Tz83MATk5OIrZTXFwMwPb2tmhXV1f/q6+RsOREgZmj4GpYOUskGRkZoj09PQEwNjYm2uLiIgCHh4fR9DEqbFj5hJmj4GpYOV/fOjs7RXOGUFNTkzc98wgbVj7h6sVza2sL+Jgc5yU09Mvcd+civxVLjoKZo+DqhpyWlgbA4OCgaAMDAwDc3t6KVlRUBMDd3V00fYwKuyH7RFSLeklJSVIvLCwAUFdXJ9rIyAgAo6Ojoj08PLi9nCssOT5h5ih4tlaempoKwObmpmglJSUANDY2ira0tBR2bn5+PhDcpAQfv/c486Wvvh95jSVHwbNFPWfjUOhaeE9PDwDPz89hx4fuFl1ZWfnQBgSTCLC6ugrA8fGxaLu7uwAcHByI9vj4GNZONFhyFMwchZjtJq2srJR6bW3NkzZPT0+Bzz/U/81XexEtOQoxS05BQYHUXV1dwMedFc6uU/Dv3wmcNf/PsOQomDkKMRtWX1FbWyt1fX09ENxVClBYWPjpuWdnZ1Ln5eUBkJycHHacDaso+LXJiUR6errUoe9ef3N5eSl1X18f8HF27STr6OhIvZ4lR8HMUfinhtVPY8lRMHMUzBwFM0fBzFEwcxTMHAUzR8HMUfgPSGf/OxM2VUgAAAAASUVORK5CYII=\" y=\"-7.132203\"/>\n   </g>\n  </g>\n  <g id=\"axes_10\">\n   <g clip-path=\"url(#p1d692322db)\">\n    <image height=\"71\" id=\"image308ea15674\" transform=\"scale(1 -1)translate(0 -71)\" width=\"71\" x=\"773.267797\" xlink:href=\"data:image/png;base64,\niVBORw0KGgoAAAANSUhEUgAAAEcAAABHCAYAAABVsFofAAAABHNCSVQICAgIfAhkiAAABAlJREFUeJztmk0odV0Ux39ehEIpMvAxkihJkZSSMpIoUhIzBsq3AYWkKANlQhETmRhKGSgDCgMDE5JIKZJ8pnx/v4O3sx3PvXc997qO53lr/Uardc85e/Xvv9c9Z+8dALyjuOWfP13A34yKIxDk5MNbW1sBGBoaMrnGxkYARkZGnBz6W1DnCATgYEM+PDwEID4+3uROT08ByMjIMLnj42OnSvALdY6AiiPgaEO+vLwEIC4uzuRiYmIAaGlpMbmOjg4ny/gy6hwBRxtySUkJALOzsyb3/u46XEFBAQCLi4tOlfIl1DkCKo6Ao9MqPDwcgO3tbZOzN2eLjY0NAHJyckzu4eHBqbK8Rp0j4KhzLCIiIkx8fn4OQHBwsMt14+PjJq6rq3O6rN+izhFQcQR+ZFrZ6evrA6Crq8vlt9vbWxMXFxebeGlpyfG63KHOEfg257h78zWDBASYODs7G4CFhQWTszdsi5ubGxMXFhYCsLq66nedvqDOEVBxBH58WlnU1taa2Fpjtt6of2VrawuArKwsk3t8fPxSnb6gzhH4Y86x097eDkB/f7/JBQW5rsNVVVWZeHp62tcSfUadI6DiCPwV08piamrKxNXV1S6/X19fm7itrQ2AyclJk3t9ffVqHG9R5wg4uvtgsby8bOKLiwsADg4OTC4kJASA5ORk8Tn2N+mJiQkAMjMzTa6zsxOAq6srPyv+D3WOgIoj4FdDDgsLM/Hd3Z1X97hr3FYjDQwM9LmGt7c3E8/MzADQ1NRkcv7sw6tzBFQcAb+mVVFRkYnn5uY8Xme3eUJCAgApKSku193f35s4NTXVJbYW5wFiY2M9jmcdcwHIy8sDYHd31+P1nlDnCPj1nuPtG+na2pqJh4eHvbrH3pwtt5WXl5ucdXwuKirK5KwlD7ururu7AaipqTG55+dnr2pQ5wioOAJ+NeTQ0FAT25vpr9gb5OjoKACDg4MmZ9+SkbD21AEqKyuBz3vv8/PzHu+1T7WzszOvxlPnCPjVkL09CWEddQPo6ekBIDc31+Q2NzeBjw9HT8+2Plrh48+gt7fX5Z6TkxOTS0xM9KpGd6hzBFQcgYB3aQkP71fx3JGeng5AfX29yVVUVAAQGRnpcv3R0ZGJ7WtA+/v7wMdCPMD6+jrwsYMKHx+ZLy8vJjcwMADA2NiYz/WrcwQcdY470tLSAGhoaDC5srIyAKKjo31+nt0lOzs7AKysrJhcc3MzAE9PTz4/W50joOII/Pi0ckdSUhLweVqVlpaaOD8/H/i86mc1WPuxlL29vW+tS50j8OPH3v5PqHMEVBwBFUdAxRFQcQRUHAEVR0DFEVBxBL60hvybz7Ev8xPfcb6gzhFQcQRUHAEVR0DFEVBxBFQcgX8BnDEn11ZW2kcAAAAASUVORK5CYII=\" y=\"-7.132203\"/>\n   </g>\n  </g>\n </g>\n <defs>\n  <clipPath id=\"p2bfb870f45\">\n   <rect height=\"70.932203\" width=\"70.932203\" x=\"7.2\" y=\"7.2\"/>\n  </clipPath>\n  <clipPath id=\"p4340eecad5\">\n   <rect height=\"70.932203\" width=\"70.932203\" x=\"92.318644\" y=\"7.2\"/>\n  </clipPath>\n  <clipPath id=\"p4d48bbbe68\">\n   <rect height=\"70.932203\" width=\"70.932203\" x=\"177.437288\" y=\"7.2\"/>\n  </clipPath>\n  <clipPath id=\"p7a8c216110\">\n   <rect height=\"70.932203\" width=\"70.932203\" x=\"262.555932\" y=\"7.2\"/>\n  </clipPath>\n  <clipPath id=\"p3c40127b03\">\n   <rect height=\"70.932203\" width=\"70.932203\" x=\"347.674576\" y=\"7.2\"/>\n  </clipPath>\n  <clipPath id=\"pc6193335a2\">\n   <rect height=\"70.932203\" width=\"70.932203\" x=\"432.79322\" y=\"7.2\"/>\n  </clipPath>\n  <clipPath id=\"p0f08a437b0\">\n   <rect height=\"70.932203\" width=\"70.932203\" x=\"517.911864\" y=\"7.2\"/>\n  </clipPath>\n  <clipPath id=\"p343ca55e16\">\n   <rect height=\"70.932203\" width=\"70.932203\" x=\"603.030508\" y=\"7.2\"/>\n  </clipPath>\n  <clipPath id=\"p43ccaa5281\">\n   <rect height=\"70.932203\" width=\"70.932203\" x=\"688.149153\" y=\"7.2\"/>\n  </clipPath>\n  <clipPath id=\"p1d692322db\">\n   <rect height=\"70.932203\" width=\"70.932203\" x=\"773.267797\" y=\"7.2\"/>\n  </clipPath>\n </defs>\n</svg>\n",
      "image/png": "[encoded data removed]"
     },
     "metadata": {
      "needs_background": "light"
     }
    }
   ],
   "source": [
    "fail_test = x_test[ :1000].copy()\n",
    "import matplotlib.pyplot as plt \n",
    "import numpy as np \n",
    "\n",
    "fig, axs = plt.subplots(1,10, figsize=(15, 5))\n",
    "for i in range(0,10) : \n",
    "    ix = np.random.randint(0, fail_test.shape[1]-3)\n",
    "    iz = np.random.randint(0, fail_test.shape[1]-3)\n",
    "    ic = np.random.randint(0, fail_test.shape[1]-3)\n",
    "    fail_test[i, 10:20, ix:ix+3] = 1.\n",
    "    fail_test[i, iz:iz+3 , 5:14] = 1.\n",
    "    fail_test[i, ix:ix+3 , iz:iz+3] = 1.\n",
    "    axs[i].set_axis_off()\n",
    "    axs[i].imshow(fail_test[i].reshape((28,28)), cmap='gray')\n",
    "plt.show()\n",
    "plt.close(fig)"
   ]
  },
  {
   "cell_type": "code",
   "execution_count": 2,
   "metadata": {},
   "outputs": [
    {
     "output_type": "stream",
     "name": "stdout",
     "text": "(1000, 28, 28, 1)\n"
    }
   ],
   "source": [
    "fail_test = x_test[ :1000].copy()\n",
    "import matplotlib.pyplot as plt \n",
    "import numpy as np \n",
    "print(fail_test.shape)\n",
    "\n",
    "for i in range(0, fail_test.shape[0]) : \n",
    "    ix = np.random.randint(0, fail_test.shape[1]-3)\n",
    "    iz = np.random.randint(0, fail_test.shape[1]-3)\n",
    "    ic = np.random.randint(0, fail_test.shape[1]-3)\n",
    "    fail_test[i, 10:20, ix:ix+3] = 1.\n",
    "    fail_test[i, iz:iz+3 , 5:14] = 1.\n",
    "    fail_test[i, ix:ix+3 , iz:iz+3] = 1.\n",
    "\n",
    "#     axs[i].set_axis_off()\n",
    "#     axs[i].imshow(fail_test[i].reshape((28,28)), cmap='gray')\n",
    "# plt.show()\n",
    "# plt.close(fig)"
   ]
  }
 ],
 "metadata": {
  "language_info": {
   "codemirror_mode": {
    "name": "ipython",
    "version": 3
   },
   "file_extension": ".py",
   "mimetype": "text/x-python",
   "name": "python",
   "nbconvert_exporter": "python",
   "pygments_lexer": "ipython3",
   "version": "3.7.4-final"
  },
  "orig_nbformat": 2,
  "kernelspec": {
   "name": "python37464bitanaconda3condae788c5fa592f4db3927eca9f2fe371f6",
   "display_name": "Python 3.7.4 64-bit ('anaconda3': conda)"
  }
 },
 "nbformat": 4,
 "nbformat_minor": 2
}